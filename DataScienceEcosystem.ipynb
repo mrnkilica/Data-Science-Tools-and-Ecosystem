{
 "cells": [
  {
   "cell_type": "markdown",
   "id": "6a13be76",
   "metadata": {},
   "source": [
    "# Data Science Tools and Ecosystem\n",
    "\n",
    "In this notebook, Data Science Tools and Ecosystem are summarized."
   ]
  },
  {
   "cell_type": "markdown",
   "id": "d0b534f3",
   "metadata": {},
   "source": [
    "**Objectives:**\n",
    "\n",
    "- List popular languages for Data Science.\n",
    "- Identify commonly used data science libraries.\n",
    "- Understand arithmetic expressions in Python.\n",
    "- Convert minutes to hours using Python."
   ]
  },
  {
   "cell_type": "markdown",
   "id": "58a51f65",
   "metadata": {},
   "source": [
    "### Some of the popular languages that Data Scientists use are:\n",
    "\n",
    "1. Python\n",
    "2. R\n",
    "3. SQL\n",
    "4. Julia\n",
    "5. MATLAB\n",
    "6. Java"
   ]
  },
  {
   "cell_type": "markdown",
   "id": "4ab0e2fb",
   "metadata": {},
   "source": [
    "### Some of the commonly used libraries by Data Scientists include:\n",
    "\n",
    "1. NumPy\n",
    "2. pandas\n",
    "3. Matplotlib\n",
    "4. Seaborn\n",
    "5. scikit-learn\n",
    "6. TensorFlow\n",
    "7. PyTorch\n"
   ]
  },
  {
   "cell_type": "markdown",
   "id": "94446deb",
   "metadata": {},
   "source": [
    "### Data Science Tools\n",
    "\n",
    "\n",
    "| Data Science Tools |\n",
    "|-------------------|\n",
    "| Jupyter Notebook  |\n",
    "| RStudio           |\n",
    "| VS Code           |\n",
    "\n",
    "### Below are a few examples of evaluating arithmetic expressions in Python\n"
   ]
  },
  {
   "cell_type": "code",
   "execution_count": 1,
   "id": "85a85ecb",
   "metadata": {},
   "outputs": [
    {
     "name": "stdout",
     "output_type": "stream",
     "text": [
      "17\n"
     ]
    }
   ],
   "source": [
    "# This is a simple arithmetic expression to multiply then add integers.\n",
    "result = (3 * 4) + 5\n",
    "print(result)\n"
   ]
  },
  {
   "cell_type": "code",
   "execution_count": 2,
   "id": "e92b9d4f",
   "metadata": {},
   "outputs": [
    {
     "name": "stdout",
     "output_type": "stream",
     "text": [
      "3.3333333333333335\n"
     ]
    }
   ],
   "source": [
    "# This will convert 200 minutes to hours by dividing by 60.\n",
    "minutes = 200\n",
    "hours = minutes / 60\n",
    "print(hours)\n"
   ]
  },
  {
   "cell_type": "markdown",
   "id": "548f964a",
   "metadata": {},
   "source": [
    "## Author\n",
    "\n",
    "Mina Kan\n"
   ]
  },
  {
   "cell_type": "code",
   "execution_count": null,
   "id": "e6c62de2",
   "metadata": {},
   "outputs": [],
   "source": []
  }
 ],
 "metadata": {
  "kernelspec": {
   "display_name": "Python 3 (ipykernel)",
   "language": "python",
   "name": "python3"
  },
  "language_info": {
   "codemirror_mode": {
    "name": "ipython",
    "version": 3
   },
   "file_extension": ".py",
   "mimetype": "text/x-python",
   "name": "python",
   "nbconvert_exporter": "python",
   "pygments_lexer": "ipython3",
   "version": "3.10.9"
  }
 },
 "nbformat": 4,
 "nbformat_minor": 5
}
